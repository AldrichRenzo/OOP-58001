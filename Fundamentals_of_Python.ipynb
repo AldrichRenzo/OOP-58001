{
  "nbformat": 4,
  "nbformat_minor": 0,
  "metadata": {
    "colab": {
      "name": "Fundamentals_of_Python",
      "provenance": [],
      "authorship_tag": "ABX9TyNFyrdqEHu0BALJfb9t7/p8",
      "include_colab_link": true
    },
    "kernelspec": {
      "name": "python3",
      "display_name": "Python 3"
    },
    "language_info": {
      "name": "python"
    }
  },
  "cells": [
    {
      "cell_type": "markdown",
      "metadata": {
        "id": "view-in-github",
        "colab_type": "text"
      },
      "source": [
        "<a href=\"https://colab.research.google.com/github/AldrichRenzo/OOP-58001/blob/main/Fundamentals_of_Python.ipynb\" target=\"_parent\"><img src=\"https://colab.research.google.com/assets/colab-badge.svg\" alt=\"Open In Colab\"/></a>"
      ]
    },
    {
      "cell_type": "markdown",
      "source": [
        "Fundamentals of Python"
      ],
      "metadata": {
        "id": "pfT204aZCQw9"
      }
    },
    {
      "cell_type": "markdown",
      "source": [
        "Python Variables"
      ],
      "metadata": {
        "id": "7CVYQulgCaxg"
      }
    },
    {
      "cell_type": "code",
      "source": [
        "x = float(1) \n",
        "a, b = 0, -1\n",
        "a, b, c = \"Sally\", \"John\", \"Anna\"\n",
        "\n",
        "print('This a sample')\n",
        "print(a)\n",
        "print(c)"
      ],
      "metadata": {
        "colab": {
          "base_uri": "https://localhost:8080/"
        },
        "id": "zsBdfcGOCd9b",
        "outputId": "c47b7e59-1217-4656-d650-2c95bbf369ac"
      },
      "execution_count": 1,
      "outputs": [
        {
          "output_type": "stream",
          "name": "stdout",
          "text": [
            "This a sample\n",
            "Sally\n",
            "Anna\n"
          ]
        }
      ]
    },
    {
      "cell_type": "markdown",
      "source": [
        "Casting"
      ],
      "metadata": {
        "id": "H6rss-iDC7cT"
      }
    },
    {
      "cell_type": "code",
      "source": [
        "print(x)"
      ],
      "metadata": {
        "colab": {
          "base_uri": "https://localhost:8080/"
        },
        "id": "kbw9f_uVC9-J",
        "outputId": "422b88a9-8626-4a8d-aa11-9fc1f84e653e"
      },
      "execution_count": 2,
      "outputs": [
        {
          "output_type": "stream",
          "name": "stdout",
          "text": [
            "1.0\n"
          ]
        }
      ]
    },
    {
      "cell_type": "markdown",
      "source": [
        "Type() Function"
      ],
      "metadata": {
        "id": "elrEz8P2DCxS"
      }
    },
    {
      "cell_type": "code",
      "source": [
        "y = \"Johnny\"\n",
        "\n",
        "print(type(y))\n",
        "print(type(x))"
      ],
      "metadata": {
        "colab": {
          "base_uri": "https://localhost:8080/"
        },
        "id": "uzPV4Xg0DHag",
        "outputId": "96277810-8bbc-463a-dbbc-9c8a48522ebb"
      },
      "execution_count": 3,
      "outputs": [
        {
          "output_type": "stream",
          "name": "stdout",
          "text": [
            "<class 'str'>\n",
            "<class 'float'>\n"
          ]
        }
      ]
    },
    {
      "cell_type": "markdown",
      "source": [
        "Double quotes and Single quotes"
      ],
      "metadata": {
        "id": "BuXxfS6tDKZR"
      }
    },
    {
      "cell_type": "code",
      "source": [
        "h= \"Maria\"\n",
        "v= 1\n",
        "V= 2\n",
        "\n",
        "print(h)\n",
        "print(v)\n",
        "print(v+1)"
      ],
      "metadata": {
        "colab": {
          "base_uri": "https://localhost:8080/"
        },
        "id": "JYeiKSOgDObb",
        "outputId": "744651ff-64ea-4479-9801-7dff717671e7"
      },
      "execution_count": 4,
      "outputs": [
        {
          "output_type": "stream",
          "name": "stdout",
          "text": [
            "Maria\n",
            "1\n",
            "2\n"
          ]
        }
      ]
    },
    {
      "cell_type": "markdown",
      "source": [
        "Multiple Variables"
      ],
      "metadata": {
        "id": "o4pe-VqvDQ4T"
      }
    },
    {
      "cell_type": "code",
      "source": [
        "x,y,z=\"one\", \"two\", \"three\"\n",
        "print(x)\n",
        "print(y)\n",
        "print(z)\n",
        "print(x,y,z)"
      ],
      "metadata": {
        "colab": {
          "base_uri": "https://localhost:8080/"
        },
        "id": "RaFPMY6cDWYT",
        "outputId": "4de55fdc-b139-4a97-d81d-f9e5af7fe868"
      },
      "execution_count": 6,
      "outputs": [
        {
          "output_type": "stream",
          "name": "stdout",
          "text": [
            "one\n",
            "two\n",
            "three\n",
            "one two three\n"
          ]
        }
      ]
    },
    {
      "cell_type": "markdown",
      "source": [
        "One Value to Multiple Variables"
      ],
      "metadata": {
        "id": "RP2fnX4zDaBn"
      }
    },
    {
      "cell_type": "code",
      "source": [
        "x = y = z =\"Stella\"\n",
        "print(x,y,z)"
      ],
      "metadata": {
        "colab": {
          "base_uri": "https://localhost:8080/"
        },
        "id": "JkvFDNhmDiJe",
        "outputId": "63dd8b52-ac86-4330-e2f1-b7b14d2125a0"
      },
      "execution_count": 7,
      "outputs": [
        {
          "output_type": "stream",
          "name": "stdout",
          "text": [
            "Stella Stella Stella\n"
          ]
        }
      ]
    },
    {
      "cell_type": "markdown",
      "source": [
        "Output Variables"
      ],
      "metadata": {
        "id": "coroxWMGDlFv"
      }
    },
    {
      "cell_type": "code",
      "source": [
        "x= \"enjoying\"\n",
        "\n",
        "print(\"Python is \" + x)\n",
        "\n",
        "x = \"Hi\"\n",
        "y = \"Ayaka\"\n",
        "\n",
        "print(x+\"\"+\" \"+y)"
      ],
      "metadata": {
        "colab": {
          "base_uri": "https://localhost:8080/"
        },
        "id": "_YdHbDXxDnuZ",
        "outputId": "49c13e2d-a13b-4481-b456-0f484d9bd95c"
      },
      "execution_count": 11,
      "outputs": [
        {
          "output_type": "stream",
          "name": "stdout",
          "text": [
            "Python is enjoying\n",
            "Hi Ayaka\n"
          ]
        }
      ]
    },
    {
      "cell_type": "markdown",
      "source": [
        "Arithmetic Operations"
      ],
      "metadata": {
        "id": "GzPXDYXaDqta"
      }
    },
    {
      "cell_type": "code",
      "source": [
        "f = 1\n",
        "g = 2\n",
        "i = 12\n",
        "\n",
        "print(f+g)\n",
        "print(f-g)\n",
        "print(f*i)\n",
        "print(int(i/g))\n",
        "print(3/g)\n",
        "print(3%g)\n",
        "print(3//g)\n",
        "print(3**i)"
      ],
      "metadata": {
        "colab": {
          "base_uri": "https://localhost:8080/"
        },
        "id": "J9rvwKG_D9bX",
        "outputId": "547bc225-0f05-4935-a4b6-302434acda40"
      },
      "execution_count": 14,
      "outputs": [
        {
          "output_type": "stream",
          "name": "stdout",
          "text": [
            "3\n",
            "-1\n",
            "12\n",
            "6\n",
            "1.5\n",
            "1\n",
            "1\n",
            "531441\n"
          ]
        }
      ]
    },
    {
      "cell_type": "markdown",
      "source": [
        "Assignment Operators"
      ],
      "metadata": {
        "id": "_fd-dXR3Elqk"
      }
    },
    {
      "cell_type": "code",
      "source": [
        "k = 2\n",
        "l=4\n",
        "k+=4 #same as k=k+4\n",
        "\n",
        "print(k)\n",
        "\n",
        "print(l>>1)"
      ],
      "metadata": {
        "colab": {
          "base_uri": "https://localhost:8080/"
        },
        "id": "RvwJ2Tt0EmqN",
        "outputId": "1568d0b0-b376-4c9d-9430-6586bea35307"
      },
      "execution_count": 16,
      "outputs": [
        {
          "output_type": "stream",
          "name": "stdout",
          "text": [
            "6\n",
            "2\n"
          ]
        }
      ]
    },
    {
      "cell_type": "markdown",
      "source": [
        "Boolean Operators"
      ],
      "metadata": {
        "id": "MSnqUjU4EyNy"
      }
    },
    {
      "cell_type": "code",
      "source": [
        "k=4\n",
        "l=6\n",
        "print(k>>2)#shift right twice \n",
        "print(k<<2)#shift left twice"
      ],
      "metadata": {
        "colab": {
          "base_uri": "https://localhost:8080/"
        },
        "id": "hfGmtHS9E02I",
        "outputId": "70ea7e12-a890-454d-b8c1-d3a9836451b1"
      },
      "execution_count": 17,
      "outputs": [
        {
          "output_type": "stream",
          "name": "stdout",
          "text": [
            "1\n",
            "16\n"
          ]
        }
      ]
    },
    {
      "cell_type": "markdown",
      "source": [
        "Relational Operators"
      ],
      "metadata": {
        "id": "2lR28JlrE70f"
      }
    },
    {
      "cell_type": "code",
      "source": [
        "print(v>k) #v=1, k=2\n",
        "\n",
        "print(v==k)"
      ],
      "metadata": {
        "colab": {
          "base_uri": "https://localhost:8080/"
        },
        "id": "TD4VobXOE-zr",
        "outputId": "a19eeb70-8259-42a0-8acf-9b5e2ed3c87c"
      },
      "execution_count": 18,
      "outputs": [
        {
          "output_type": "stream",
          "name": "stdout",
          "text": [
            "False\n",
            "False\n"
          ]
        }
      ]
    },
    {
      "cell_type": "markdown",
      "source": [
        "Logical Operators"
      ],
      "metadata": {
        "id": "rVQyrOFJFBbQ"
      }
    },
    {
      "cell_type": "code",
      "source": [
        "print(v<k and k==k)\n",
        "print(v<k or k==v)\n",
        "print(not (v<k or k==v))"
      ],
      "metadata": {
        "colab": {
          "base_uri": "https://localhost:8080/"
        },
        "id": "jZK8ifygFDNp",
        "outputId": "066b0971-f6e7-40a3-c181-c1acac00bd6a"
      },
      "execution_count": 19,
      "outputs": [
        {
          "output_type": "stream",
          "name": "stdout",
          "text": [
            "True\n",
            "True\n",
            "False\n"
          ]
        }
      ]
    },
    {
      "cell_type": "markdown",
      "source": [
        "Identity Operators"
      ],
      "metadata": {
        "id": "RoKiw42DFGCa"
      }
    },
    {
      "cell_type": "code",
      "source": [
        "print(v is k)\n",
        "print(v is not k)"
      ],
      "metadata": {
        "colab": {
          "base_uri": "https://localhost:8080/"
        },
        "id": "55OjU1ReFIU5",
        "outputId": "b7b24c67-7f6f-4bb4-d5b6-dee2be9c910b"
      },
      "execution_count": 20,
      "outputs": [
        {
          "output_type": "stream",
          "name": "stdout",
          "text": [
            "False\n",
            "True\n"
          ]
        }
      ]
    }
  ]
}