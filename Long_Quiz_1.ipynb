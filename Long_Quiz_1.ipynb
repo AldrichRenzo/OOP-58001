{
  "nbformat": 4,
  "nbformat_minor": 0,
  "metadata": {
    "colab": {
      "name": "Long Quiz 1.ipynb",
      "provenance": [],
      "collapsed_sections": [],
      "authorship_tag": "ABX9TyM6IuKyKi7mdTX/18JYy22Q",
      "include_colab_link": true
    },
    "kernelspec": {
      "name": "python3",
      "display_name": "Python 3"
    },
    "language_info": {
      "name": "python"
    }
  },
  "cells": [
    {
      "cell_type": "markdown",
      "metadata": {
        "id": "view-in-github",
        "colab_type": "text"
      },
      "source": [
        "<a href=\"https://colab.research.google.com/github/AldrichRenzo/OOP-58001/blob/main/Long_Quiz_1.ipynb\" target=\"_parent\"><img src=\"https://colab.research.google.com/assets/colab-badge.svg\" alt=\"Open In Colab\"/></a>"
      ]
    },
    {
      "cell_type": "markdown",
      "source": [
        "# **Long Quiz 1 - Belen**"
      ],
      "metadata": {
        "id": "d3NoVlQPTMfr"
      }
    },
    {
      "cell_type": "markdown",
      "source": [
        "1.   Write a Python program that asks the user to enter the radius of a circle and solve its area and perimeter.\n",
        "2.   Create a class name Circle allowing you to build a circle with radius and pi attributes.\n",
        "3. Create a method Display() the perimeter and area using an instantiation of a class.\n",
        "4. Create a Perimeter() method to calculate the perimeter of the circle and an Area() method to calculate the area of ​​the circle."
      ],
      "metadata": {
        "id": "YNTbbYngTXgC"
      }
    },
    {
      "cell_type": "code",
      "source": [
        "class Circle():\n",
        "  def __init__ (self, radius):\n",
        "    self.radius = int (radius)\n",
        "\n",
        "  def Perimeter (self):\n",
        "    return 2 * pi * self.radius\n",
        "  \n",
        "  def Area (self):\n",
        "    return pi * (self.radius ** 2)\n",
        "\n",
        "  def display (self):\n",
        "    print (\"The perimeter of the circle is\", self.Perimeter())\n",
        "    print (\"The area of the circle is\", self.Area())\n",
        "\n",
        "pi = 3.14\n",
        "pizza = Circle (input())\n",
        "pizza.display()"
      ],
      "metadata": {
        "colab": {
          "base_uri": "https://localhost:8080/"
        },
        "id": "NHzQvRcUTtgw",
        "outputId": "4bb02679-6d99-48d6-ee05-9b440f0c3d97"
      },
      "execution_count": 1,
      "outputs": [
        {
          "output_type": "stream",
          "name": "stdout",
          "text": [
            "12\n",
            "The perimeter of the circle is 75.36\n",
            "The area of the circle is 452.16\n"
          ]
        }
      ]
    }
  ]
}