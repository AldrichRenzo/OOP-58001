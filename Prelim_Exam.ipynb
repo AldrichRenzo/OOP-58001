{
  "nbformat": 4,
  "nbformat_minor": 0,
  "metadata": {
    "colab": {
      "name": "Prelim Exam.ipynb",
      "provenance": [],
      "authorship_tag": "ABX9TyN8yFGRbFkCK96L5VB4B8uG",
      "include_colab_link": true
    },
    "kernelspec": {
      "name": "python3",
      "display_name": "Python 3"
    },
    "language_info": {
      "name": "python"
    }
  },
  "cells": [
    {
      "cell_type": "markdown",
      "metadata": {
        "id": "view-in-github",
        "colab_type": "text"
      },
      "source": [
        "<a href=\"https://colab.research.google.com/github/AldrichRenzo/OOP-58001/blob/main/Prelim_Exam.ipynb\" target=\"_parent\"><img src=\"https://colab.research.google.com/assets/colab-badge.svg\" alt=\"Open In Colab\"/></a>"
      ]
    },
    {
      "cell_type": "markdown",
      "source": [
        "# **Prelim Exam in OOP**"
      ],
      "metadata": {
        "id": "bl74_G3TMEn0"
      }
    },
    {
      "cell_type": "markdown",
      "source": [
        "### **Problem 2.(50pts)**"
      ],
      "metadata": {
        "id": "EJhHKjPpMONk"
      }
    },
    {
      "cell_type": "markdown",
      "source": [
        "* Write a Python to display your full name, student number, age, and course\n",
        "* Create a class named Student with attributes: Name, Student_No, Age, School, and Course\n",
        "* Create an object name Myself and assign an instance for each attribute.\n",
        "* Create a method Self () using an instantiation of a class.\n",
        "* Insert your GitHub link \"Prelim Exam\" from your repository named \"OOP 58001\""
      ],
      "metadata": {
        "id": "ILHQT2lvMev3"
      }
    },
    {
      "cell_type": "code",
      "source": [
        "class Myself():                    \n",
        "  def __init__(self,name,number,age,school,course):\n",
        "    self.name = name              \n",
        "    self.number = number\n",
        "    self.age = age\n",
        "    self.school = school\n",
        "    self.course = course  \n",
        "\n",
        "  def FullName(self):\n",
        "    return self.name\n",
        "\n",
        "  def StudentNumber(self):\n",
        "    return self.number\n",
        "\n",
        "  def Age(self):\n",
        "    return self.age\n",
        "\n",
        "  def School(self):\n",
        "    return self.school\n",
        "\n",
        "  def Course(self):\n",
        "    return self.course\n",
        "  \n",
        "  def display(self):\n",
        "    print(\"My Full Name is\", self.FullName())\n",
        "    print(\"My Student Number is\", self.StudentNumber())\n",
        "    print(\"I am\", self.Age())\n",
        "    print(\"I study at\", self.School())\n",
        "    print(\"My Course is\", self.Course())\n",
        "\n",
        "info = Myself(\"Aldrich Renzo G. Belen\", \"202118984\", \"19 y/o\", \"Adamson University\", \"BS in Computer Engineering\")     \n",
        "info.display()"
      ],
      "metadata": {
        "colab": {
          "base_uri": "https://localhost:8080/"
        },
        "id": "IEcdYskkFDQY",
        "outputId": "a81c16e7-6330-4c27-f219-be2c30c49120"
      },
      "execution_count": 21,
      "outputs": [
        {
          "output_type": "stream",
          "name": "stdout",
          "text": [
            "My Full Name is Aldrich Renzo G. Belen\n",
            "My Student Number is 202118984\n",
            "I am 19 y/o\n",
            "I study at Adamson University\n",
            "My Course is BS in Computer Engineering\n"
          ]
        }
      ]
    }
  ]
}