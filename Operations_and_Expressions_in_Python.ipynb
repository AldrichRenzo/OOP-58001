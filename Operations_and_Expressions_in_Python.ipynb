{
  "nbformat": 4,
  "nbformat_minor": 0,
  "metadata": {
    "colab": {
      "name": "Operations_and_Expressions_in_Python.ipynb",
      "provenance": [],
      "collapsed_sections": [],
      "authorship_tag": "ABX9TyNYg7FIkOY1Vj6tlnvKVhAL",
      "include_colab_link": true
    },
    "kernelspec": {
      "name": "python3",
      "display_name": "Python 3"
    },
    "language_info": {
      "name": "python"
    }
  },
  "cells": [
    {
      "cell_type": "markdown",
      "metadata": {
        "id": "view-in-github",
        "colab_type": "text"
      },
      "source": [
        "<a href=\"https://colab.research.google.com/github/AldrichRenzo/OOP-58001/blob/main/Operations_and_Expressions_in_Python.ipynb\" target=\"_parent\"><img src=\"https://colab.research.google.com/assets/colab-badge.svg\" alt=\"Open In Colab\"/></a>"
      ]
    },
    {
      "cell_type": "markdown",
      "source": [
        "**Operations and Expressions in python**\n"
      ],
      "metadata": {
        "id": "_XpaUAalK1MX"
      }
    },
    {
      "cell_type": "markdown",
      "source": [
        "Boolean Operators"
      ],
      "metadata": {
        "id": "RfSoy9vALE79"
      }
    },
    {
      "cell_type": "code",
      "source": [
        "print(16>12)\n",
        "print(16==12)\n",
        "print(16!=12)\n",
        "print(16<12)"
      ],
      "metadata": {
        "colab": {
          "base_uri": "https://localhost:8080/"
        },
        "id": "BYy9ohEiLLzd",
        "outputId": "272972a1-6b4a-47de-a612-96fc392e4878"
      },
      "execution_count": null,
      "outputs": [
        {
          "output_type": "stream",
          "name": "stdout",
          "text": [
            "True\n",
            "False\n",
            "True\n",
            "False\n"
          ]
        }
      ]
    },
    {
      "cell_type": "markdown",
      "source": [
        "bool() Function"
      ],
      "metadata": {
        "id": "YhivoOZ9LlpI"
      }
    },
    {
      "cell_type": "code",
      "source": [
        "print(bool(\"Nabi\"))\n",
        "print(bool(19))\n",
        "print(bool({}))\n",
        "print(bool(0))\n",
        "print(bool(2))\n",
        "print(bool(None))\n",
        "print(bool(True))"
      ],
      "metadata": {
        "colab": {
          "base_uri": "https://localhost:8080/"
        },
        "id": "3FkfgVilLqg-",
        "outputId": "b639c15d-2ca2-47d5-afdc-41fa10e5ed93"
      },
      "execution_count": null,
      "outputs": [
        {
          "output_type": "stream",
          "name": "stdout",
          "text": [
            "True\n",
            "True\n",
            "False\n",
            "False\n",
            "True\n",
            "False\n",
            "True\n"
          ]
        }
      ]
    },
    {
      "cell_type": "markdown",
      "source": [
        "Function Can return a Boolean"
      ],
      "metadata": {
        "id": "qlS3wW3kL-tt"
      }
    },
    {
      "cell_type": "code",
      "source": [
        "def myFunction():\n",
        "  return True\n",
        "\n",
        "print(myFunction())"
      ],
      "metadata": {
        "colab": {
          "base_uri": "https://localhost:8080/"
        },
        "id": "QLWEbm72MBGd",
        "outputId": "4c603f97-dd02-44b5-e35d-1f15bf950928"
      },
      "execution_count": null,
      "outputs": [
        {
          "output_type": "stream",
          "name": "stdout",
          "text": [
            "True\n"
          ]
        }
      ]
    },
    {
      "cell_type": "code",
      "source": [
        "if myFunction():\n",
        "  print(\"YEY!\")\n",
        "else:\n",
        "  print(\"NAY!\")"
      ],
      "metadata": {
        "colab": {
          "base_uri": "https://localhost:8080/"
        },
        "id": "9NV2ZwCdMGoV",
        "outputId": "e6520fed-04d6-44c7-dec5-9916d72907f3"
      },
      "execution_count": null,
      "outputs": [
        {
          "output_type": "stream",
          "name": "stdout",
          "text": [
            "YEY!\n"
          ]
        }
      ]
    },
    {
      "cell_type": "markdown",
      "source": [
        "*Application 1*"
      ],
      "metadata": {
        "id": "mIIBn8ERMAS-"
      }
    },
    {
      "cell_type": "code",
      "source": [
        "print(16>12)\n",
        "\n",
        "a=55\n",
        "b=27\n",
        "print(a==b)\n",
        "print(a!=b)"
      ],
      "metadata": {
        "colab": {
          "base_uri": "https://localhost:8080/"
        },
        "id": "iwc1R46FMaCP",
        "outputId": "2fb3aa25-193f-47c0-f491-d1857de4343f"
      },
      "execution_count": null,
      "outputs": [
        {
          "output_type": "stream",
          "name": "stdout",
          "text": [
            "True\n",
            "False\n",
            "True\n"
          ]
        }
      ]
    },
    {
      "cell_type": "markdown",
      "source": [
        "Python Operators"
      ],
      "metadata": {
        "id": "TCp50MQhNSMn"
      }
    },
    {
      "cell_type": "code",
      "source": [
        "print(8+4)\n",
        "print(8 - 4)\n",
        "print(8*4)\n",
        "print(8/4)\n",
        "print(8 % 4)\n",
        "print(8//4)"
      ],
      "metadata": {
        "colab": {
          "base_uri": "https://localhost:8080/"
        },
        "id": "j8bb5kY9NSpl",
        "outputId": "4fb1ad80-e2d4-43ee-fcbd-878034ad3383"
      },
      "execution_count": null,
      "outputs": [
        {
          "output_type": "stream",
          "name": "stdout",
          "text": [
            "12\n",
            "4\n",
            "32\n",
            "2.0\n",
            "0\n",
            "2\n"
          ]
        }
      ]
    },
    {
      "cell_type": "markdown",
      "source": [
        "Bitwise Operators"
      ],
      "metadata": {
        "id": "SwZ_ZZ8ROe8v"
      }
    },
    {
      "cell_type": "code",
      "source": [
        "#a=47, binary 0010 1111\n",
        "#b=16, binary 0001 0000\n",
        "\n",
        "print(a&b)\n",
        "print(a|b)\n",
        "print(a^b)\n",
        "print(a<<b)\n",
        "print(a>>b)"
      ],
      "metadata": {
        "colab": {
          "base_uri": "https://localhost:8080/"
        },
        "id": "BSFeUWO_NSuw",
        "outputId": "3e23f53b-b6f4-4227-fa31-9f6cf00d97de"
      },
      "execution_count": null,
      "outputs": [
        {
          "output_type": "stream",
          "name": "stdout",
          "text": [
            "19\n",
            "63\n",
            "44\n",
            "7381975040\n",
            "0\n"
          ]
        }
      ]
    },
    {
      "cell_type": "markdown",
      "source": [
        "*Application2*"
      ],
      "metadata": {
        "id": "qI1RQQcpPQ4N"
      }
    },
    {
      "cell_type": "markdown",
      "source": [
        "Assignemnt Operators\n"
      ],
      "metadata": {
        "id": "MN-VE8AfPUZm"
      }
    },
    {
      "cell_type": "code",
      "source": [
        "a+=3 #Same As a = a+3\n",
        "a-=3 #Same As a = a-3\n",
        "a*=3 #Same As a = a*3\n",
        "a/=3 #Same As a = a/3\n",
        "a%=3 #Same As a = a%3"
      ],
      "metadata": {
        "id": "FOZDhjUdPP4f"
      },
      "execution_count": null,
      "outputs": []
    },
    {
      "cell_type": "markdown",
      "source": [
        "Logical Operators"
      ],
      "metadata": {
        "id": "BfCewVk8PzV2"
      }
    },
    {
      "cell_type": "code",
      "source": [
        "k = True \n",
        "l = False \n",
        "print(k and l)\n",
        "print(k or l)\n",
        "print(not(k or l))"
      ],
      "metadata": {
        "colab": {
          "base_uri": "https://localhost:8080/"
        },
        "id": "wtgVGCD5P1ad",
        "outputId": "a026b768-8b12-49ea-94e0-0472fbf08400"
      },
      "execution_count": null,
      "outputs": [
        {
          "output_type": "stream",
          "name": "stdout",
          "text": [
            "False\n",
            "True\n",
            "False\n"
          ]
        }
      ]
    },
    {
      "cell_type": "markdown",
      "source": [
        "Identity operators"
      ],
      "metadata": {
        "id": "_y_PQxtVP6q1"
      }
    },
    {
      "cell_type": "code",
      "source": [
        "print(k is l)\n",
        "print(k is not l)"
      ],
      "metadata": {
        "colab": {
          "base_uri": "https://localhost:8080/"
        },
        "id": "itaDoJXxQBDn",
        "outputId": "5acce3db-196f-4112-bf37-cf022d3da8a4"
      },
      "execution_count": null,
      "outputs": [
        {
          "output_type": "stream",
          "name": "stdout",
          "text": [
            "False\n",
            "True\n"
          ]
        }
      ]
    },
    {
      "cell_type": "markdown",
      "source": [
        "# **Control Structure**"
      ],
      "metadata": {
        "id": "yQHhtFRLQCkl"
      }
    },
    {
      "cell_type": "markdown",
      "source": [
        "if Statement"
      ],
      "metadata": {
        "id": "JMtWr-DRRExs"
      }
    },
    {
      "cell_type": "code",
      "source": [
        "v = 1\n",
        "z = 2\n",
        "\n",
        "if v<z:\n",
        "  print(\"1 is less than 2\")"
      ],
      "metadata": {
        "colab": {
          "base_uri": "https://localhost:8080/"
        },
        "id": "au45yamKRoc9",
        "outputId": "504f96f4-0a2b-44be-e29e-74835c9f55b8"
      },
      "execution_count": null,
      "outputs": [
        {
          "output_type": "stream",
          "name": "stdout",
          "text": [
            "1 is less than 2\n"
          ]
        }
      ]
    },
    {
      "cell_type": "markdown",
      "source": [
        "Elif Statement"
      ],
      "metadata": {
        "id": "CqbKfY4CR_jl"
      }
    },
    {
      "cell_type": "code",
      "source": [
        "if v<z:\n",
        "  print(\"v is less than z\")\n",
        "\n",
        "elif v!=z:\n",
        "  print(\"v is not z\")"
      ],
      "metadata": {
        "colab": {
          "base_uri": "https://localhost:8080/"
        },
        "id": "3ioFifpCSCpt",
        "outputId": "ddf02207-7317-432e-8791-9f7b9a922072"
      },
      "execution_count": null,
      "outputs": [
        {
          "output_type": "stream",
          "name": "stdout",
          "text": [
            "v is less than z\n"
          ]
        }
      ]
    },
    {
      "cell_type": "markdown",
      "source": [
        "Else Statement"
      ],
      "metadata": {
        "id": "7sHzdfoISEU2"
      }
    },
    {
      "cell_type": "code",
      "source": [
        "number = int(input())\n",
        "\n",
        "if number>0:\n",
        "  print(\"Positive\")\n",
        "\n",
        "elif number<0:\n",
        "  print(\"negative\")\n",
        "\n",
        "else:\n",
        "  print(\"number is equal to zero\")"
      ],
      "metadata": {
        "colab": {
          "base_uri": "https://localhost:8080/"
        },
        "id": "w9SzrHoBScll",
        "outputId": "2222d18c-88cb-4923-99e2-c897e87bbdb9"
      },
      "execution_count": null,
      "outputs": [
        {
          "output_type": "stream",
          "name": "stdout",
          "text": [
            "9\n",
            "Positive\n"
          ]
        }
      ]
    },
    {
      "cell_type": "markdown",
      "source": [
        "Application 3 - Develop a Python program that will accept if a person is entitled to vote or not"
      ],
      "metadata": {
        "id": "Ktlw9ikfSYiF"
      }
    },
    {
      "cell_type": "code",
      "source": [
        "age = int(input())\n",
        "\n",
        "if age >= 18:\n",
        "  print(\"You are qulifed to vote\")\n",
        "else:\n",
        "  print(\"you are not qualified to vote\")"
      ],
      "metadata": {
        "colab": {
          "base_uri": "https://localhost:8080/"
        },
        "id": "77E4JSQqSrRt",
        "outputId": "f98d12ce-9c09-40fb-907a-01931498e89f"
      },
      "execution_count": null,
      "outputs": [
        {
          "output_type": "stream",
          "name": "stdout",
          "text": [
            "19\n",
            "You are qulifed to vote\n"
          ]
        }
      ]
    },
    {
      "cell_type": "markdown",
      "source": [
        "Nested if...Else"
      ],
      "metadata": {
        "id": "AYvCLJJRStC9"
      }
    },
    {
      "cell_type": "code",
      "source": [
        "u = int(input())\n",
        "if u>10:\n",
        "  print(\"you are above 10\")\n",
        "  if u>20:\n",
        "    print(\"you are above 20\")\n",
        "    if u>30:\n",
        "      print(\"you are above 30\")\n",
        "      if u>40:\n",
        "        print(\"you are above 40\")\n",
        "        if u>50:\n",
        "          print(\"you are above 50\")\n",
        "        else:\n",
        "          print(\"you are below 50\")"
      ],
      "metadata": {
        "colab": {
          "base_uri": "https://localhost:8080/"
        },
        "id": "leocL974SyLY",
        "outputId": "8105c30e-07fb-408e-e381-36aca134b627"
      },
      "execution_count": null,
      "outputs": [
        {
          "output_type": "stream",
          "name": "stdout",
          "text": [
            "19\n",
            "you are above 10\n"
          ]
        }
      ]
    },
    {
      "cell_type": "markdown",
      "source": [
        "# **Loop Structure**"
      ],
      "metadata": {
        "id": "6NETGQx3Sxee"
      }
    },
    {
      "cell_type": "code",
      "source": [
        "week = ['Sunday','Monday','Tuesday','Wednesday','Thursday','Friday','Saturday']\n",
        "Season=['Rainy','Sunny']\n",
        "for x in week:\n",
        "  for y in Season:\n",
        "    print(y,x)"
      ],
      "metadata": {
        "colab": {
          "base_uri": "https://localhost:8080/"
        },
        "id": "vAviNRj8TYaV",
        "outputId": "1ff0d909-2e51-4e8a-86ec-59d856fa35a3"
      },
      "execution_count": null,
      "outputs": [
        {
          "output_type": "stream",
          "name": "stdout",
          "text": [
            "Rainy Sunday\n",
            "Sunny Sunday\n",
            "Rainy Monday\n",
            "Sunny Monday\n",
            "Rainy Tuesday\n",
            "Sunny Tuesday\n",
            "Rainy Wednesday\n",
            "Sunny Wednesday\n",
            "Rainy Thursday\n",
            "Sunny Thursday\n",
            "Rainy Friday\n",
            "Sunny Friday\n",
            "Rainy Saturday\n",
            "Sunny Saturday\n"
          ]
        }
      ]
    },
    {
      "cell_type": "markdown",
      "source": [
        "The Break Statement"
      ],
      "metadata": {
        "id": "Hj5zdxozTxjV"
      }
    },
    {
      "cell_type": "code",
      "source": [
        "for x in week:\n",
        "  print(x)\n",
        "  if x == 'Thursday':\n",
        "    break"
      ],
      "metadata": {
        "colab": {
          "base_uri": "https://localhost:8080/"
        },
        "id": "9zO6L-8ST0PG",
        "outputId": "cb781fc8-06ba-4593-bc23-ce96025668b6"
      },
      "execution_count": null,
      "outputs": [
        {
          "output_type": "stream",
          "name": "stdout",
          "text": [
            "Sunday\n",
            "Monday\n",
            "Tuesday\n",
            "Wednesday\n",
            "Thursday\n"
          ]
        }
      ]
    },
    {
      "cell_type": "markdown",
      "source": [
        "While loop"
      ],
      "metadata": {
        "id": "8diY6JkCT5Ms"
      }
    },
    {
      "cell_type": "code",
      "source": [
        "i=1\n",
        "\n",
        "while i<=6:\n",
        "  print(i)\n",
        "  i+=1"
      ],
      "metadata": {
        "colab": {
          "base_uri": "https://localhost:8080/"
        },
        "id": "YLulfXHqT6C8",
        "outputId": "f7e9f512-c928-434c-d658-58a8f4edf709"
      },
      "execution_count": null,
      "outputs": [
        {
          "output_type": "stream",
          "name": "stdout",
          "text": [
            "1\n",
            "2\n",
            "3\n",
            "4\n",
            "5\n",
            "6\n"
          ]
        }
      ]
    },
    {
      "cell_type": "markdown",
      "source": [
        "Application 4 - Creat a python program that displays numbers from 1 to 4 :"
      ],
      "metadata": {
        "id": "iXpNWW-XT7YF"
      }
    },
    {
      "cell_type": "code",
      "source": [
        "j=1\n",
        "while j<=4:\n",
        "  print(j)\n",
        "  j+=1"
      ],
      "metadata": {
        "colab": {
          "base_uri": "https://localhost:8080/"
        },
        "id": "pzNfzbg4UFo1",
        "outputId": "13c9dd32-a2c9-4a4f-ad75-eccd6ed7e618"
      },
      "execution_count": null,
      "outputs": [
        {
          "output_type": "stream",
          "name": "stdout",
          "text": [
            "1\n",
            "2\n",
            "3\n",
            "4\n"
          ]
        }
      ]
    },
    {
      "cell_type": "markdown",
      "source": [
        "Application 5 - Create a python program that displays number 4 using while and break statement:"
      ],
      "metadata": {
        "id": "ihq3qxOkUHd1"
      }
    },
    {
      "cell_type": "code",
      "source": [
        "j=1\n",
        "while j<=4:\n",
        "  j+=1\n",
        "  if j == 4:\n",
        "   print(j)"
      ],
      "metadata": {
        "colab": {
          "base_uri": "https://localhost:8080/"
        },
        "id": "hkeARKpQUK9d",
        "outputId": "179cb462-5906-4079-acc7-a641c65ab64e"
      },
      "execution_count": null,
      "outputs": [
        {
          "output_type": "stream",
          "name": "stdout",
          "text": [
            "4\n"
          ]
        }
      ]
    }
  ]
}