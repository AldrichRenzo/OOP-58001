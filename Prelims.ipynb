{
  "nbformat": 4,
  "nbformat_minor": 0,
  "metadata": {
    "colab": {
      "name": "Prelims.ipynb",
      "provenance": [],
      "authorship_tag": "ABX9TyOXyy0dd1/+Kb1PTQF10mcz",
      "include_colab_link": true
    },
    "kernelspec": {
      "name": "python3",
      "display_name": "Python 3"
    },
    "language_info": {
      "name": "python"
    }
  },
  "cells": [
    {
      "cell_type": "markdown",
      "metadata": {
        "id": "view-in-github",
        "colab_type": "text"
      },
      "source": [
        "<a href=\"https://colab.research.google.com/github/AldrichRenzo/OOP-58001/blob/main/Prelims.ipynb\" target=\"_parent\"><img src=\"https://colab.research.google.com/assets/colab-badge.svg\" alt=\"Open In Colab\"/></a>"
      ]
    },
    {
      "cell_type": "code",
      "source": [
        "class PersonalInfo():                    \n",
        "  def __init__(self,name,number,age,school,course):\n",
        "    self.name = name              \n",
        "    self.number = number\n",
        "    self.age = age\n",
        "    self.school = school\n",
        "    self.course = course  \n",
        "\n",
        "  def FullName(self):\n",
        "    return self.name\n",
        "\n",
        "  def StudentNumber(self):\n",
        "    return self.number\n",
        "\n",
        "  def Age(self):\n",
        "    return self.age\n",
        "\n",
        "  def School(self):\n",
        "    return self.school\n",
        "\n",
        "  def Course(self):\n",
        "    return self.course\n",
        "  \n",
        "  def display(self):\n",
        "    print(\"My Full Name is\", self.FullName())\n",
        "    print(\"My Student Number is\", self.StudentNumber())\n",
        "    print(\"I am\", self.Age())\n",
        "    print(\"I study at\", self.School())\n",
        "    print(\"My Course is\", self.Course())\n",
        "\n",
        "info = PersonalInfo(\"Aldrich Renzo G. Belen\", \"202118984\", \"19 y/o\", \"Adamson University\", \"BS in Computer Engineering\")     \n",
        "info.display()"
      ],
      "metadata": {
        "colab": {
          "base_uri": "https://localhost:8080/"
        },
        "id": "IEcdYskkFDQY",
        "outputId": "2f50193a-2057-4776-bcee-56b01ef0c3db"
      },
      "execution_count": 20,
      "outputs": [
        {
          "output_type": "stream",
          "name": "stdout",
          "text": [
            "My Full Name is Aldrich Renzo G. Belen\n",
            "My Student Number is 202118984\n",
            "I am 19 y/o\n",
            "I study at Adamson University\n",
            "My Course is BS in Computer Engineering\n"
          ]
        }
      ]
    }
  ]
}